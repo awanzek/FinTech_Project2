{
 "cells": [
  {
   "cell_type": "code",
   "execution_count": 15,
   "metadata": {
    "tags": []
   },
   "outputs": [],
   "source": [
    "import requests\n",
    "import json\n",
    "import pandas as pd\n",
    "import plotly.express as px\n",
    "import panel as pn\n",
    "import hvplot.pandas\n"
   ]
  },
  {
   "cell_type": "code",
   "execution_count": 16,
   "metadata": {
    "tags": []
   },
   "outputs": [],
   "source": [
    "\n",
    "## Create parameterized url\n",
    "#request_url = \"https://api.covid19api.com/summary\"\n",
    "#\n",
    "## Submit request and format output\n",
    "#response_world_data = requests.get(request_url).json()\n",
    "#print(json.dumps(response_world_data, indent=4))\n"
   ]
  },
  {
   "cell_type": "code",
   "execution_count": 17,
   "metadata": {
    "tags": []
   },
   "outputs": [],
   "source": [
    "\n",
    "#request_url = \"https://api.covid19api.com/dayone/country/#united-states/status/confirmed/live\"\n",
    "#\n",
    "## Submit request and format output\n",
    "#response_data = requests.get(request_url).json()\n",
    "#print(json.dumps(response_data, indent=4))\n"
   ]
  },
  {
   "cell_type": "code",
   "execution_count": 4,
   "metadata": {
    "tags": []
   },
   "outputs": [],
   "source": [
    "request_url = \"https://api.covid19api.com/total/dayone/country/united-states/status/confirmed\"\n",
    "\n",
    "# Submit request and format output\n",
    "response_data = requests.get(request_url).json()\n",
    "states_json = json.dumps(response_data, indent=4)\n"
   ]
  },
  {
   "cell_type": "code",
   "execution_count": 5,
   "metadata": {},
   "outputs": [
    {
     "output_type": "execute_result",
     "data": {
      "text/plain": "   Cases City CityCode                   Country CountryCode       Date  Lat  \\\n0      1                United States of America             2020-01-22    0   \n1      1                United States of America             2020-01-23    0   \n2      2                United States of America             2020-01-24    0   \n3      2                United States of America             2020-01-25    0   \n4      5                United States of America             2020-01-26    0   \n\n   Lon Province     Status  \n0    0           confirmed  \n1    0           confirmed  \n2    0           confirmed  \n3    0           confirmed  \n4    0           confirmed  ",
      "text/html": "<div>\n<style scoped>\n    .dataframe tbody tr th:only-of-type {\n        vertical-align: middle;\n    }\n\n    .dataframe tbody tr th {\n        vertical-align: top;\n    }\n\n    .dataframe thead th {\n        text-align: right;\n    }\n</style>\n<table border=\"1\" class=\"dataframe\">\n  <thead>\n    <tr style=\"text-align: right;\">\n      <th></th>\n      <th>Cases</th>\n      <th>City</th>\n      <th>CityCode</th>\n      <th>Country</th>\n      <th>CountryCode</th>\n      <th>Date</th>\n      <th>Lat</th>\n      <th>Lon</th>\n      <th>Province</th>\n      <th>Status</th>\n    </tr>\n  </thead>\n  <tbody>\n    <tr>\n      <th>0</th>\n      <td>1</td>\n      <td></td>\n      <td></td>\n      <td>United States of America</td>\n      <td></td>\n      <td>2020-01-22</td>\n      <td>0</td>\n      <td>0</td>\n      <td></td>\n      <td>confirmed</td>\n    </tr>\n    <tr>\n      <th>1</th>\n      <td>1</td>\n      <td></td>\n      <td></td>\n      <td>United States of America</td>\n      <td></td>\n      <td>2020-01-23</td>\n      <td>0</td>\n      <td>0</td>\n      <td></td>\n      <td>confirmed</td>\n    </tr>\n    <tr>\n      <th>2</th>\n      <td>2</td>\n      <td></td>\n      <td></td>\n      <td>United States of America</td>\n      <td></td>\n      <td>2020-01-24</td>\n      <td>0</td>\n      <td>0</td>\n      <td></td>\n      <td>confirmed</td>\n    </tr>\n    <tr>\n      <th>3</th>\n      <td>2</td>\n      <td></td>\n      <td></td>\n      <td>United States of America</td>\n      <td></td>\n      <td>2020-01-25</td>\n      <td>0</td>\n      <td>0</td>\n      <td></td>\n      <td>confirmed</td>\n    </tr>\n    <tr>\n      <th>4</th>\n      <td>5</td>\n      <td></td>\n      <td></td>\n      <td>United States of America</td>\n      <td></td>\n      <td>2020-01-26</td>\n      <td>0</td>\n      <td>0</td>\n      <td></td>\n      <td>confirmed</td>\n    </tr>\n  </tbody>\n</table>\n</div>"
     },
     "metadata": {},
     "execution_count": 5
    }
   ],
   "source": [
    "case_count_df = pd.read_json(request_url)\n",
    "case_count_df.head()"
   ]
  },
  {
   "cell_type": "code",
   "execution_count": 6,
   "metadata": {},
   "outputs": [],
   "source": [
    "case_count_df.drop(columns = ['CountryCode', 'Province', 'City', 'CityCode', 'Lat','Lon'], inplace = True)"
   ]
  },
  {
   "cell_type": "code",
   "execution_count": 7,
   "metadata": {},
   "outputs": [],
   "source": [
    "case_count_df.set_index('Date', inplace = True)"
   ]
  },
  {
   "cell_type": "code",
   "execution_count": 8,
   "metadata": {},
   "outputs": [
    {
     "output_type": "execute_result",
     "data": {
      "text/plain": "Cases       int64\nCountry    object\nStatus     object\ndtype: object"
     },
     "metadata": {},
     "execution_count": 8
    }
   ],
   "source": [
    "case_count_df.dtypes"
   ]
  },
  {
   "cell_type": "code",
   "execution_count": 11,
   "metadata": {},
   "outputs": [
    {
     "output_type": "execute_result",
     "data": {
      "text/plain": "            Cases                   Country     Status\nDate                                                  \n2020-01-22      1  United States of America  confirmed\n2020-01-23      1  United States of America  confirmed\n2020-01-24      2  United States of America  confirmed\n2020-01-25      2  United States of America  confirmed\n2020-01-26      5  United States of America  confirmed",
      "text/html": "<div>\n<style scoped>\n    .dataframe tbody tr th:only-of-type {\n        vertical-align: middle;\n    }\n\n    .dataframe tbody tr th {\n        vertical-align: top;\n    }\n\n    .dataframe thead th {\n        text-align: right;\n    }\n</style>\n<table border=\"1\" class=\"dataframe\">\n  <thead>\n    <tr style=\"text-align: right;\">\n      <th></th>\n      <th>Cases</th>\n      <th>Country</th>\n      <th>Status</th>\n    </tr>\n    <tr>\n      <th>Date</th>\n      <th></th>\n      <th></th>\n      <th></th>\n    </tr>\n  </thead>\n  <tbody>\n    <tr>\n      <th>2020-01-22</th>\n      <td>1</td>\n      <td>United States of America</td>\n      <td>confirmed</td>\n    </tr>\n    <tr>\n      <th>2020-01-23</th>\n      <td>1</td>\n      <td>United States of America</td>\n      <td>confirmed</td>\n    </tr>\n    <tr>\n      <th>2020-01-24</th>\n      <td>2</td>\n      <td>United States of America</td>\n      <td>confirmed</td>\n    </tr>\n    <tr>\n      <th>2020-01-25</th>\n      <td>2</td>\n      <td>United States of America</td>\n      <td>confirmed</td>\n    </tr>\n    <tr>\n      <th>2020-01-26</th>\n      <td>5</td>\n      <td>United States of America</td>\n      <td>confirmed</td>\n    </tr>\n  </tbody>\n</table>\n</div>"
     },
     "metadata": {},
     "execution_count": 11
    }
   ],
   "source": [
    "case_count_df.head()"
   ]
  },
  {
   "cell_type": "code",
   "execution_count": 12,
   "metadata": {},
   "outputs": [
    {
     "output_type": "execute_result",
     "data": {
      "text/plain": "Date\n2020-06-20    0.015380\n2020-06-21    0.010979\n2020-06-22    0.014221\n2020-06-23    0.015015\n2020-06-24    0.014634\nName: Cases, dtype: float64"
     },
     "metadata": {},
     "execution_count": 12
    }
   ],
   "source": [
    "case_pct_change = case_count_df['Cases'].pct_change()\n",
    "case_pct_change.tail()"
   ]
  },
  {
   "cell_type": "code",
   "execution_count": 13,
   "metadata": {},
   "outputs": [],
   "source": []
  }
 ],
 "metadata": {
  "kernelspec": {
   "display_name": "Python 3.7.7 64-bit ('pyviz': conda)",
   "language": "python",
   "name": "python37764bitpyvizcondaab383c5f881744bfad20b1db80186f9c"
  },
  "language_info": {
   "codemirror_mode": {
    "name": "ipython",
    "version": 3
   },
   "file_extension": ".py",
   "mimetype": "text/x-python",
   "name": "python",
   "nbconvert_exporter": "python",
   "pygments_lexer": "ipython3",
   "version": "3.7.7-final"
  }
 },
 "nbformat": 4,
 "nbformat_minor": 4
}