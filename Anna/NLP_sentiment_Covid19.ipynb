{
 "cells": [
  {
   "cell_type": "code",
   "execution_count": 1,
   "metadata": {
    "tags": []
   },
   "outputs": [
    {
     "output_type": "stream",
     "name": "stderr",
     "text": "[nltk_data] Downloading package vader_lexicon to\n[nltk_data]     /Users/anna/nltk_data...\n[nltk_data]   Package vader_lexicon is already up-to-date!\n"
    }
   ],
   "source": [
    "import os\n",
    "import pandas as pd\n",
    "%matplotlib inline\n",
    "import nltk\n",
    "nltk.download('vader_lexicon')\n",
    "from datetime import datetime, timedelta,date\n",
    "from pandas import DataFrame"
   ]
  },
  {
   "cell_type": "code",
   "execution_count": 2,
   "metadata": {},
   "outputs": [],
   "source": [
    "from nltk.sentiment.vader import SentimentIntensityAnalyzer\n",
    "analyzer = SentimentIntensityAnalyzer()"
   ]
  },
  {
   "cell_type": "markdown",
   "metadata": {},
   "source": [
    "Use news api to get all news articles and headline sentiment related to Covid-19 or Coronavirus"
   ]
  },
  {
   "cell_type": "code",
   "execution_count": 3,
   "metadata": {},
   "outputs": [],
   "source": [
    "# Read api key environment variable\n",
    "from dotenv import load_dotenv\n",
    "load_dotenv()\n",
    "api_key = os.getenv(\"newsapikey\")"
   ]
  },
  {
   "cell_type": "code",
   "execution_count": 4,
   "metadata": {},
   "outputs": [],
   "source": [
    "import newsapi"
   ]
  },
  {
   "cell_type": "code",
   "execution_count": 5,
   "metadata": {},
   "outputs": [],
   "source": [
    "# Create a newsapi client\n",
    "from newsapi import NewsApiClient\n",
    "newsapi = NewsApiClient(api_key=api_key)\n"
   ]
  },
  {
   "cell_type": "code",
   "execution_count": 6,
   "metadata": {
    "tags": []
   },
   "outputs": [],
   "source": [
    "# Set start and end datetimes of for 1 days of news\n",
    "from datetime import datetime, timedelta\n",
    "end_date = datetime.now()\n",
    "start_date = end_date + timedelta(-1)\n",
    "end_date=end_date.strftime(\"%Y-%m-%d\")\n",
    "start_date=start_date.strftime(\"%Y-%m-%d\")\n"
   ]
  },
  {
   "cell_type": "code",
   "execution_count": 7,
   "metadata": {
    "tags": []
   },
   "outputs": [
    {
     "output_type": "stream",
     "name": "stdout",
     "text": "Total articles related to Covid-19: 20729\n"
    }
   ],
   "source": [
    "# Fetch the Covid19 news articles\n",
    "covid19_news = newsapi.get_everything(\n",
    "    from_param=start_date,\n",
    "    to=end_date,\n",
    "    q=\"Covid 19\",\n",
    "    language=\"en\",\n",
    "    page_size=100,\n",
    "    sort_by=\"relevancy\"\n",
    ")\n",
    "# Print number articles found for reference\n",
    "print(f\"Total articles related to Covid-19: {covid19_news['totalResults']}\")"
   ]
  },
  {
   "cell_type": "code",
   "execution_count": 8,
   "metadata": {
    "tags": []
   },
   "outputs": [
    {
     "output_type": "execute_result",
     "data": {
      "text/plain": "   Compound  Negative  Neutral  Positive  \\\n0   -0.2924     0.056    0.944     0.000   \n1    0.5859     0.040    0.794     0.167   \n2   -0.0258     0.070    0.862     0.068   \n3    0.3400     0.000    0.911     0.089   \n4   -0.4993     0.158    0.788     0.054   \n\n                                                text  \n0  Airbus is, of course, one of the world’s two m...  \n1  In 2019, the global fertility services industr...  \n2  It isn’t clear exactly how many employees will...  \n3  There are some wearables out there in the worl...  \n4  It doesn't help matters for any budding hurric...  ",
      "text/html": "<div>\n<style scoped>\n    .dataframe tbody tr th:only-of-type {\n        vertical-align: middle;\n    }\n\n    .dataframe tbody tr th {\n        vertical-align: top;\n    }\n\n    .dataframe thead th {\n        text-align: right;\n    }\n</style>\n<table border=\"1\" class=\"dataframe\">\n  <thead>\n    <tr style=\"text-align: right;\">\n      <th></th>\n      <th>Compound</th>\n      <th>Negative</th>\n      <th>Neutral</th>\n      <th>Positive</th>\n      <th>text</th>\n    </tr>\n  </thead>\n  <tbody>\n    <tr>\n      <td>0</td>\n      <td>-0.2924</td>\n      <td>0.056</td>\n      <td>0.944</td>\n      <td>0.000</td>\n      <td>Airbus is, of course, one of the world’s two m...</td>\n    </tr>\n    <tr>\n      <td>1</td>\n      <td>0.5859</td>\n      <td>0.040</td>\n      <td>0.794</td>\n      <td>0.167</td>\n      <td>In 2019, the global fertility services industr...</td>\n    </tr>\n    <tr>\n      <td>2</td>\n      <td>-0.0258</td>\n      <td>0.070</td>\n      <td>0.862</td>\n      <td>0.068</td>\n      <td>It isn’t clear exactly how many employees will...</td>\n    </tr>\n    <tr>\n      <td>3</td>\n      <td>0.3400</td>\n      <td>0.000</td>\n      <td>0.911</td>\n      <td>0.089</td>\n      <td>There are some wearables out there in the worl...</td>\n    </tr>\n    <tr>\n      <td>4</td>\n      <td>-0.4993</td>\n      <td>0.158</td>\n      <td>0.788</td>\n      <td>0.054</td>\n      <td>It doesn't help matters for any budding hurric...</td>\n    </tr>\n  </tbody>\n</table>\n</div>"
     },
     "metadata": {},
     "execution_count": 8
    }
   ],
   "source": [
    "# Create the Covid-19 sentiment scores DataFrame\n",
    "#covid-19 sentiment list to dataframe\n",
    "covid19_sentiment_list=[]\n",
    "for article in covid19_news[\"articles\"]:        \n",
    "   try: \n",
    "        text = article[\"content\"]\n",
    "        sentiment = analyzer.polarity_scores(text)\n",
    "        compound = sentiment[\"compound\"]\n",
    "        pos = sentiment[\"pos\"]\n",
    "        neu = sentiment[\"neu\"]\n",
    "        neg = sentiment[\"neg\"]\n",
    "        scores={\"Compound\":compound, \"Negative\":neg, \"Neutral\":neu, \"Positive\":pos, \"text\":text}\n",
    "        covid19_sentiment_list.append(scores)\n",
    "        \n",
    "   except: \n",
    "        pass\n",
    "\n",
    "covid19_sentiment_df=pd.DataFrame(covid19_sentiment_list)\n",
    "covid19_sentiment_df.head()"
   ]
  },
  {
   "cell_type": "code",
   "execution_count": 9,
   "metadata": {},
   "outputs": [
    {
     "output_type": "execute_result",
     "data": {
      "text/plain": "        Compound   Negative    Neutral   Positive\ncount  97.000000  97.000000  97.000000  97.000000\nmean    0.157355   0.030608   0.897979   0.071412\nstd     0.426943   0.048929   0.084618   0.077924\nmin    -0.765000   0.000000   0.632000   0.000000\n25%     0.000000   0.000000   0.856000   0.000000\n50%     0.000000   0.000000   0.892000   0.058000\n75%     0.531900   0.067000   1.000000   0.124000\nmax     0.868900   0.175000   1.000000   0.263000",
      "text/html": "<div>\n<style scoped>\n    .dataframe tbody tr th:only-of-type {\n        vertical-align: middle;\n    }\n\n    .dataframe tbody tr th {\n        vertical-align: top;\n    }\n\n    .dataframe thead th {\n        text-align: right;\n    }\n</style>\n<table border=\"1\" class=\"dataframe\">\n  <thead>\n    <tr style=\"text-align: right;\">\n      <th></th>\n      <th>Compound</th>\n      <th>Negative</th>\n      <th>Neutral</th>\n      <th>Positive</th>\n    </tr>\n  </thead>\n  <tbody>\n    <tr>\n      <td>count</td>\n      <td>97.000000</td>\n      <td>97.000000</td>\n      <td>97.000000</td>\n      <td>97.000000</td>\n    </tr>\n    <tr>\n      <td>mean</td>\n      <td>0.157355</td>\n      <td>0.030608</td>\n      <td>0.897979</td>\n      <td>0.071412</td>\n    </tr>\n    <tr>\n      <td>std</td>\n      <td>0.426943</td>\n      <td>0.048929</td>\n      <td>0.084618</td>\n      <td>0.077924</td>\n    </tr>\n    <tr>\n      <td>min</td>\n      <td>-0.765000</td>\n      <td>0.000000</td>\n      <td>0.632000</td>\n      <td>0.000000</td>\n    </tr>\n    <tr>\n      <td>25%</td>\n      <td>0.000000</td>\n      <td>0.000000</td>\n      <td>0.856000</td>\n      <td>0.000000</td>\n    </tr>\n    <tr>\n      <td>50%</td>\n      <td>0.000000</td>\n      <td>0.000000</td>\n      <td>0.892000</td>\n      <td>0.058000</td>\n    </tr>\n    <tr>\n      <td>75%</td>\n      <td>0.531900</td>\n      <td>0.067000</td>\n      <td>1.000000</td>\n      <td>0.124000</td>\n    </tr>\n    <tr>\n      <td>max</td>\n      <td>0.868900</td>\n      <td>0.175000</td>\n      <td>1.000000</td>\n      <td>0.263000</td>\n    </tr>\n  </tbody>\n</table>\n</div>"
     },
     "metadata": {},
     "execution_count": 9
    }
   ],
   "source": [
    "# Describe the  Sentiment Related to Covid19/Coronavirus\n",
    "sentiment_df=covid19_sentiment_df.describe()\n",
    "sentiment_df"
   ]
  },
  {
   "cell_type": "code",
   "execution_count": 20,
   "metadata": {
    "tags": []
   },
   "outputs": [],
   "source": [
    "\n",
    "daily_signal_dict={}\n",
    "daily_sentiment_dict={}\n",
    "\n",
    "for i in range(30):\n",
    "\n",
    "    # Set start and end datetimes of for 1 days of news\n",
    "    end_date = datetime.now()\n",
    "    start_date = end_date + timedelta(-i)\n",
    "    end_date=end_date.strftime(\"%Y-%m-%d\")\n",
    "    start_date=start_date.strftime(\"%Y-%m-%d\")\n",
    "    \n",
    "\n",
    "    # Fetch the Covid19 news articles\n",
    "    covid19_news = newsapi.get_everything(\n",
    "    from_param=start_date,\n",
    "    to=end_date,\n",
    "    q=\"Covid 19\",\n",
    "    language=\"en\",\n",
    "    page_size=100,\n",
    "    sort_by=\"relevancy\"\n",
    "    )\n",
    "    \n",
    "\n",
    "    #covid-19 sentiment list to dataframe\n",
    "    covid19_sentiment_list=[]\n",
    "    for article in covid19_news[\"articles\"]:        \n",
    "        try: \n",
    "            text = article[\"content\"]\n",
    "            sentiment = analyzer.polarity_scores(text)\n",
    "            compound = sentiment[\"compound\"]\n",
    "            pos = sentiment[\"pos\"]\n",
    "            neu = sentiment[\"neu\"]\n",
    "            neg = sentiment[\"neg\"]\n",
    "            scores={\"Compound\":compound, \"Negative\":neg, \"Neutral\":neu, \"Positive\":pos, \"text\":text}\n",
    "            covid19_sentiment_list.append(scores)\n",
    "        \n",
    "        except: \n",
    "            pass\n",
    "\n",
    "    covid19_sentiment_df=pd.DataFrame(covid19_sentiment_list)\n",
    "    \n",
    "\n",
    "    # Describe the  Sentiment Related to Covid19/Coronavirus\n",
    "    sentiment_df=covid19_sentiment_df.describe()\n",
    "\n",
    "\n",
    "    #determine trading signal value based on covid news sentiment \n",
    "    if sentiment_df['Neutral'][1] > (sentiment_df['Positive'][1] and sentiment_df['Negative'][1]):\n",
    "        sentiment_signal=0.0\n",
    "        sentiment='Neutral'\n",
    "    elif sentiment_df['Negative'][1] > (sentiment_df['Positive'][1] and sentiment_df['Neutral'][1]):\n",
    "        sentiment_signal=-1.0\n",
    "        sentiment='Negative'\n",
    "    elif sentiment_df['Positive'][1] > (sentiment_df['Negative'][1] and sentiment_df['Netural'][1]):\n",
    "        sentiment_signal=1.0\n",
    "        sentiment='Positive'\n",
    "\n",
    "    daily_signal_dict.update({start_date:sentiment_signal})\n",
    "    daily_sentiment_dict.update({start_date:sentiment})\n",
    "   \n",
    "#convert dictionary to dataframe     \n",
    "daily_signal_df=DataFrame.from_dict(daily_signal_dict,orient='index',columns=['Signal'])\n",
    "daily_sentiment_df=DataFrame.from_dict(daily_sentiment_dict,orient='index',columns=['Sentiment'])\n",
    "\n",
    "sentiment_signal_df=pd.concat([daily_signal_df,daily_sentiment_df],join='inner', axis=1)\n"
   ]
  },
  {
   "cell_type": "code",
   "execution_count": 21,
   "metadata": {},
   "outputs": [
    {
     "output_type": "execute_result",
     "data": {
      "text/plain": "            Signal Sentiment\n2020-06-25     0.0   Neutral\n2020-06-24     0.0   Neutral\n2020-06-23     0.0   Neutral\n2020-06-22     0.0   Neutral\n2020-06-21     0.0   Neutral\n2020-06-20     0.0   Neutral\n2020-06-19     0.0   Neutral\n2020-06-18     0.0   Neutral\n2020-06-17     0.0   Neutral\n2020-06-16     0.0   Neutral\n2020-06-15     0.0   Neutral\n2020-06-14     0.0   Neutral\n2020-06-13     0.0   Neutral\n2020-06-12     0.0   Neutral\n2020-06-11     0.0   Neutral\n2020-06-10     0.0   Neutral\n2020-06-09     0.0   Neutral\n2020-06-08     0.0   Neutral\n2020-06-07     0.0   Neutral\n2020-06-06     0.0   Neutral\n2020-06-05     0.0   Neutral\n2020-06-04     0.0   Neutral\n2020-06-03     0.0   Neutral\n2020-06-02     0.0   Neutral\n2020-06-01     0.0   Neutral\n2020-05-31     0.0   Neutral\n2020-05-30     0.0   Neutral\n2020-05-29     0.0   Neutral\n2020-05-28     0.0   Neutral\n2020-05-27     0.0   Neutral",
      "text/html": "<div>\n<style scoped>\n    .dataframe tbody tr th:only-of-type {\n        vertical-align: middle;\n    }\n\n    .dataframe tbody tr th {\n        vertical-align: top;\n    }\n\n    .dataframe thead th {\n        text-align: right;\n    }\n</style>\n<table border=\"1\" class=\"dataframe\">\n  <thead>\n    <tr style=\"text-align: right;\">\n      <th></th>\n      <th>Signal</th>\n      <th>Sentiment</th>\n    </tr>\n  </thead>\n  <tbody>\n    <tr>\n      <td>2020-06-25</td>\n      <td>0.0</td>\n      <td>Neutral</td>\n    </tr>\n    <tr>\n      <td>2020-06-24</td>\n      <td>0.0</td>\n      <td>Neutral</td>\n    </tr>\n    <tr>\n      <td>2020-06-23</td>\n      <td>0.0</td>\n      <td>Neutral</td>\n    </tr>\n    <tr>\n      <td>2020-06-22</td>\n      <td>0.0</td>\n      <td>Neutral</td>\n    </tr>\n    <tr>\n      <td>2020-06-21</td>\n      <td>0.0</td>\n      <td>Neutral</td>\n    </tr>\n    <tr>\n      <td>2020-06-20</td>\n      <td>0.0</td>\n      <td>Neutral</td>\n    </tr>\n    <tr>\n      <td>2020-06-19</td>\n      <td>0.0</td>\n      <td>Neutral</td>\n    </tr>\n    <tr>\n      <td>2020-06-18</td>\n      <td>0.0</td>\n      <td>Neutral</td>\n    </tr>\n    <tr>\n      <td>2020-06-17</td>\n      <td>0.0</td>\n      <td>Neutral</td>\n    </tr>\n    <tr>\n      <td>2020-06-16</td>\n      <td>0.0</td>\n      <td>Neutral</td>\n    </tr>\n    <tr>\n      <td>2020-06-15</td>\n      <td>0.0</td>\n      <td>Neutral</td>\n    </tr>\n    <tr>\n      <td>2020-06-14</td>\n      <td>0.0</td>\n      <td>Neutral</td>\n    </tr>\n    <tr>\n      <td>2020-06-13</td>\n      <td>0.0</td>\n      <td>Neutral</td>\n    </tr>\n    <tr>\n      <td>2020-06-12</td>\n      <td>0.0</td>\n      <td>Neutral</td>\n    </tr>\n    <tr>\n      <td>2020-06-11</td>\n      <td>0.0</td>\n      <td>Neutral</td>\n    </tr>\n    <tr>\n      <td>2020-06-10</td>\n      <td>0.0</td>\n      <td>Neutral</td>\n    </tr>\n    <tr>\n      <td>2020-06-09</td>\n      <td>0.0</td>\n      <td>Neutral</td>\n    </tr>\n    <tr>\n      <td>2020-06-08</td>\n      <td>0.0</td>\n      <td>Neutral</td>\n    </tr>\n    <tr>\n      <td>2020-06-07</td>\n      <td>0.0</td>\n      <td>Neutral</td>\n    </tr>\n    <tr>\n      <td>2020-06-06</td>\n      <td>0.0</td>\n      <td>Neutral</td>\n    </tr>\n    <tr>\n      <td>2020-06-05</td>\n      <td>0.0</td>\n      <td>Neutral</td>\n    </tr>\n    <tr>\n      <td>2020-06-04</td>\n      <td>0.0</td>\n      <td>Neutral</td>\n    </tr>\n    <tr>\n      <td>2020-06-03</td>\n      <td>0.0</td>\n      <td>Neutral</td>\n    </tr>\n    <tr>\n      <td>2020-06-02</td>\n      <td>0.0</td>\n      <td>Neutral</td>\n    </tr>\n    <tr>\n      <td>2020-06-01</td>\n      <td>0.0</td>\n      <td>Neutral</td>\n    </tr>\n    <tr>\n      <td>2020-05-31</td>\n      <td>0.0</td>\n      <td>Neutral</td>\n    </tr>\n    <tr>\n      <td>2020-05-30</td>\n      <td>0.0</td>\n      <td>Neutral</td>\n    </tr>\n    <tr>\n      <td>2020-05-29</td>\n      <td>0.0</td>\n      <td>Neutral</td>\n    </tr>\n    <tr>\n      <td>2020-05-28</td>\n      <td>0.0</td>\n      <td>Neutral</td>\n    </tr>\n    <tr>\n      <td>2020-05-27</td>\n      <td>0.0</td>\n      <td>Neutral</td>\n    </tr>\n  </tbody>\n</table>\n</div>"
     },
     "metadata": {},
     "execution_count": 21
    }
   ],
   "source": [
    "sentiment_signal_df"
   ]
  }
 ],
 "metadata": {
  "file_extension": ".py",
  "kernelspec": {
   "display_name": "Python 3",
   "language": "python",
   "name": "python3"
  },
  "language_info": {
   "codemirror_mode": {
    "name": "ipython",
    "version": 3
   },
   "file_extension": ".py",
   "mimetype": "text/x-python",
   "name": "python",
   "nbconvert_exporter": "python",
   "pygments_lexer": "ipython3",
   "version": "3.7.4-final"
  },
  "mimetype": "text/x-python",
  "name": "python",
  "npconvert_exporter": "python",
  "pygments_lexer": "ipython3",
  "version": 3
 },
 "nbformat": 4,
 "nbformat_minor": 4
}