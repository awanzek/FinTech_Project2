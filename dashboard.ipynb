{
 "cells": [
  {
   "cell_type": "code",
   "execution_count": 28,
   "metadata": {
    "tags": []
   },
   "outputs": [
    {
     "output_type": "stream",
     "name": "stderr",
     "text": "[nltk_data] Downloading package vader_lexicon to\n[nltk_data]     /Users/anna/nltk_data...\n[nltk_data]   Package vader_lexicon is already up-to-date!\n"
    }
   ],
   "source": [
    "#import relevant libraries \n",
    "import pandas as pd\n",
    "import plotly.express as px\n",
    "import panel as pn\n",
    "import hvplot.pandas\n",
    "import requests\n",
    "import json\n",
    "import numpy as np\n",
    "import matplotlib.pyplot as plt\n",
    "import json\n",
    "from pathlib import Path\n",
    "import alpaca_trade_api as tradeapi\n",
    "from dotenv import load_dotenv\n",
    "import os\n",
    "%matplotlib inline\n",
    "import nltk\n",
    "nltk.download('vader_lexicon')\n",
    "from datetime import datetime, timedelta,date\n",
    "from pandas import DataFrame\n",
    "from nltk.sentiment.vader import SentimentIntensityAnalyzer\n",
    "analyzer = SentimentIntensityAnalyzer()"
   ]
  },
  {
   "cell_type": "code",
   "execution_count": 29,
   "metadata": {},
   "outputs": [],
   "source": [
    "## Get Covid Case Count Data\n",
    "#using url for covid 19 api united states case counts confirmed\n",
    "request_url = \"https://api.covid19api.com/total/dayone/country/united-states/status/confirmed\"\n",
    "\n",
    "def get_case_count(request_url):\n",
    "    # Submit request and format output\n",
    "    response_data = requests.get(request_url).json()\n",
    "    states_json = json.dumps(response_data, indent=4)\n",
    "    case_count_df = pd.read_json(request_url)\n",
    "    #clean data\n",
    "    case_count_df.drop(columns = ['CountryCode', 'Province', 'City', 'CityCode', 'Lat','Lon'], inplace = True)\n",
    "    #update date time stamp to just date\n",
    "    case_count_df['Date']=case_count_df['Date'].dt.date\n",
    "    case_count_df.set_index('Date', inplace = True)\n",
    "    #add percent change column\n",
    "    case_pct_change = case_count_df['Cases'].pct_change()\n",
    "    case_count_df['Pct_Change']= case_pct_change\n",
    "    #add 7 day rolling moving average\n",
    "    case_rolling = case_count_df['Cases'].rolling(window = 7).mean()\n",
    "    case_count_df['7day_Rolling'] = case_rolling\n",
    "    #drop nulls\n",
    "    case_count_df.dropna(inplace = True)\n",
    "    return case_count_df"
   ]
  },
  {
   "cell_type": "code",
   "execution_count": 30,
   "metadata": {},
   "outputs": [],
   "source": [
    "case_count_df=get_case_count(request_url)\n"
   ]
  },
  {
   "cell_type": "code",
   "execution_count": 31,
   "metadata": {},
   "outputs": [],
   "source": [
    "## Get Covid 19 News Data\n",
    "# Read api key environment variable for news api\n",
    "load_dotenv()\n",
    "newsapi_key = os.getenv(\"newsapikey\")\n",
    "\n",
    "import newsapi\n",
    "from newsapi import NewsApiClient\n",
    "\n",
    "#get news articles on covid 19\n",
    "# Create a newsapi client\n",
    "newsapi = NewsApiClient(api_key=newsapi_key)\n",
    "    \n",
    "    "
   ]
  },
  {
   "cell_type": "code",
   "execution_count": 34,
   "metadata": {},
   "outputs": [],
   "source": [
    "## Get Market Data for S&P500 \n",
    "#engage API keys by activating .env file for Alpaca Api\n",
    "load_dotenv()\n",
    "alpaca_api_key = os.getenv(\"ALPACA_API_KEY\")\n",
    "alpaca_secret_key = os.getenv(\"ALPACA_SECRET_KEY\")\n",
    "api = tradeapi.REST(alpaca_api_key, alpaca_secret_key, api_version='v2')\n",
    "\n",
    "def get_SP500_data(api):\n",
    "    #load in historical data for S&P 500\n",
    "    sp500_df = api.alpha_vantage.historic_quotes('SPY', adjusted=True, output_format='pandas')\n",
    "    \n",
    "    #Clean Data\n",
    "    #Select the column we need,  \"adjusted close\", and drop the others\n",
    "    sp500_df = sp500_df['5. adjusted close']\n",
    "    #Sort earliest to latest so that .pct_change() function works right.\n",
    "    sp500_df.sort_index(inplace=True, ascending=True)\n",
    "\n",
    "    #create a dataframe column for the daily returns (pct_change) values and concat with SP500 close\n",
    "    returns_df = sp500_df.pct_change()\n",
    "    all_returns_df = pd.concat([sp500_df, returns_df], axis=\"columns\", join=\"inner\")\n",
    "\n",
    "    #Change column names to avoid confusion\n",
    "    columns = ['S&P 500 close','S&P 500 Daily Returns']\n",
    "    all_returns_df.columns = columns\n",
    "\n",
    "    # Drop nulls\n",
    "    all_returns_df.dropna(inplace=True)\n",
    "\n",
    "    #drop duplicates\n",
    "    all_returns_df.drop_duplicates(inplace=True) \n",
    "    return all_returns_df"
   ]
  },
  {
   "cell_type": "code",
   "execution_count": 39,
   "metadata": {},
   "outputs": [],
   "source": [
    "all_returns_df=get_SP500_data(api)"
   ]
  },
  {
   "cell_type": "code",
   "execution_count": 19,
   "metadata": {},
   "outputs": [],
   "source": [
    "def exp_moving_avg():\n",
    "    return "
   ]
  },
  {
   "cell_type": "code",
   "execution_count": 20,
   "metadata": {},
   "outputs": [],
   "source": [
    "def bolinger_bands():\n",
    "    return"
   ]
  },
  {
   "cell_type": "code",
   "execution_count": 21,
   "metadata": {},
   "outputs": [],
   "source": [
    "def covid_case_count(case_count_df):\n",
    "    case_count_signals_df = case_count_df.loc[:, ['Cases']].copy()\n",
    "    short_window = 7\n",
    "    long_window = 30\n",
    "\n",
    "    case_count_signals_df['7day % Change'] = case_count_signals_df['Cases'].pct_change().rolling(short_window).mean()\n",
    "    case_count_signals_df['30day % Change'] = case_count_signals_df['Cases'].pct_change().rolling(long_window).mean()\n",
    "\n",
    "    case_count_signals_df['Case Count Signal'] = 0.0\n",
    "    case_count_signals_df['Case Count Signal'][short_window:] = np.where(case_count_signals_df['7day % Change'][short_window:] > case_count_signals_df['30day % Change'][short_window:], 1.0, -1.0)\n",
    "\n",
    "    return case_count_signals_df\n",
    "    "
   ]
  },
  {
   "cell_type": "code",
   "execution_count": 89,
   "metadata": {},
   "outputs": [],
   "source": [
    "def covid_sentiment(newsapi):\n",
    "    daily_signal_dict={}\n",
    "    daily_sentiment_dict={}\n",
    "\n",
    "    for i in range(30):\n",
    "\n",
    "        # Set start and end datetimes of for 1 days of news\n",
    "        end_date = datetime.now()\n",
    "        start_date = end_date + timedelta(-i)\n",
    "        end_date=end_date.strftime(\"%Y-%m-%d\")\n",
    "        start_date=start_date.strftime(\"%Y-%m-%d\")\n",
    "\n",
    "        # Fetch the Covid19 news articles\n",
    "        covid19_news = newsapi.get_everything(\n",
    "        from_param=start_date,\n",
    "        to=end_date,\n",
    "        q=\"Covid 19\",\n",
    "        language=\"en\",\n",
    "        page_size=100,\n",
    "        sort_by=\"relevancy\"\n",
    "        )\n",
    "    \n",
    "\n",
    "        #covid-19 sentiment list to dataframe\n",
    "        covid19_sentiment_list=[]\n",
    "        for article in covid19_news[\"articles\"]:        \n",
    "            try: \n",
    "                text = article[\"content\"]\n",
    "                sentiment = analyzer.polarity_scores(text)\n",
    "                compound = sentiment[\"compound\"]\n",
    "                pos = sentiment[\"pos\"]\n",
    "                neu = sentiment[\"neu\"]\n",
    "                neg = sentiment[\"neg\"]\n",
    "                scores={\"Compound\":compound, \"Negative\":neg, \"Neutral\":neu, \"Positive\":pos, \"text\":text}\n",
    "                covid19_sentiment_list.append(scores)\n",
    "        \n",
    "            except: \n",
    "                pass\n",
    "\n",
    "        covid19_sentiment_df=pd.DataFrame(covid19_sentiment_list)\n",
    "    \n",
    "\n",
    "        # Describe the  Sentiment Related to Covid19/Coronavirus\n",
    "        sentiment_df=covid19_sentiment_df.describe()\n",
    "\n",
    "\n",
    "        #determine trading signal value based on covid news sentiment \n",
    "        if sentiment_df['Neutral'][1] > (sentiment_df['Positive'][1] and sentiment_df['Negative'][1]):\n",
    "            sentiment_signal=0.0\n",
    "            sentiment='Neutral'\n",
    "        elif sentiment_df['Negative'][1] > (sentiment_df['Positive'][1] and sentiment_df['Neutral'][1]):\n",
    "            sentiment_signal=-1.0\n",
    "            sentiment='Negative'\n",
    "        elif sentiment_df['Positive'][1] > (sentiment_df['Negative'][1] and sentiment_df['Netural'][1]):\n",
    "            sentiment_signal=1.0\n",
    "            sentiment='Positive'\n",
    "\n",
    "        daily_signal_dict.update({start_date:sentiment_signal})\n",
    "        daily_sentiment_dict.update({start_date:sentiment})\n",
    "   \n",
    "    #convert dictionary to dataframe     \n",
    "    daily_signal_df=DataFrame.from_dict(daily_signal_dict,orient='index',columns=['Sentiment Signal'])\n",
    "    daily_sentiment_df=DataFrame.from_dict(daily_sentiment_dict,orient='index',columns=['Sentiment'])\n",
    "\n",
    "    sentiment_signal_df=pd.concat([daily_signal_df,daily_sentiment_df],join='inner', axis=1)\n",
    "    sentiment_signal_df.sort_index(inplace=True, ascending=True)\n",
    "    return sentiment_signal_df\n"
   ]
  },
  {
   "cell_type": "code",
   "execution_count": 40,
   "metadata": {},
   "outputs": [],
   "source": [
    "case_count_signals_df=covid_case_count(case_count_df)"
   ]
  },
  {
   "cell_type": "code",
   "execution_count": 90,
   "metadata": {},
   "outputs": [],
   "source": [
    "sentiment_signal_df=covid_sentiment(newsapi)\n"
   ]
  },
  {
   "cell_type": "code",
   "execution_count": 76,
   "metadata": {},
   "outputs": [],
   "source": [
    "def get_trading_signals(case_count_signals_df,sentiment_signal_df):#,ema_signal_df,bolinger_signal_df)\n",
    "    case_count_signals_df=case_count_signals_df.tail(30)\n",
    "    trading_signals_df=pd.concat([case_count_signals_df, sentiment_signal_df],axis=1)\n",
    "    trading_signals_df['Signal']=trading_signals_df['Case Count Signal']+trading_signals_df['Sentiment Signal']\n",
    "    trading_signals_df['Entry/Exit']=trading_signals_df['Signal'].diff()\n",
    "    return trading_signals_df"
   ]
  },
  {
   "cell_type": "code",
   "execution_count": 82,
   "metadata": {},
   "outputs": [
    {
     "output_type": "execute_result",
     "data": {
      "text/plain": "            Cases  7day % Change  30day % Change  Case Count Signal  \\\n2020-06-23    NaN            NaN             NaN                NaN   \n2020-06-24    NaN            NaN             NaN                NaN   \n2020-06-25    NaN            NaN             NaN                NaN   \n2020-06-26    NaN            NaN             NaN                NaN   \n2020-06-27    NaN            NaN             NaN                NaN   \n\n            Sentiment Signal Sentiment  Signal  Entry/Exit  \n2020-06-23               0.0   Neutral     NaN         NaN  \n2020-06-24               0.0   Neutral     NaN         NaN  \n2020-06-25               0.0   Neutral     NaN         NaN  \n2020-06-26               0.0   Neutral     NaN         NaN  \n2020-06-27               0.0   Neutral     NaN         NaN  ",
      "text/html": "<div>\n<style scoped>\n    .dataframe tbody tr th:only-of-type {\n        vertical-align: middle;\n    }\n\n    .dataframe tbody tr th {\n        vertical-align: top;\n    }\n\n    .dataframe thead th {\n        text-align: right;\n    }\n</style>\n<table border=\"1\" class=\"dataframe\">\n  <thead>\n    <tr style=\"text-align: right;\">\n      <th></th>\n      <th>Cases</th>\n      <th>7day % Change</th>\n      <th>30day % Change</th>\n      <th>Case Count Signal</th>\n      <th>Sentiment Signal</th>\n      <th>Sentiment</th>\n      <th>Signal</th>\n      <th>Entry/Exit</th>\n    </tr>\n  </thead>\n  <tbody>\n    <tr>\n      <td>2020-06-23</td>\n      <td>NaN</td>\n      <td>NaN</td>\n      <td>NaN</td>\n      <td>NaN</td>\n      <td>0.0</td>\n      <td>Neutral</td>\n      <td>NaN</td>\n      <td>NaN</td>\n    </tr>\n    <tr>\n      <td>2020-06-24</td>\n      <td>NaN</td>\n      <td>NaN</td>\n      <td>NaN</td>\n      <td>NaN</td>\n      <td>0.0</td>\n      <td>Neutral</td>\n      <td>NaN</td>\n      <td>NaN</td>\n    </tr>\n    <tr>\n      <td>2020-06-25</td>\n      <td>NaN</td>\n      <td>NaN</td>\n      <td>NaN</td>\n      <td>NaN</td>\n      <td>0.0</td>\n      <td>Neutral</td>\n      <td>NaN</td>\n      <td>NaN</td>\n    </tr>\n    <tr>\n      <td>2020-06-26</td>\n      <td>NaN</td>\n      <td>NaN</td>\n      <td>NaN</td>\n      <td>NaN</td>\n      <td>0.0</td>\n      <td>Neutral</td>\n      <td>NaN</td>\n      <td>NaN</td>\n    </tr>\n    <tr>\n      <td>2020-06-27</td>\n      <td>NaN</td>\n      <td>NaN</td>\n      <td>NaN</td>\n      <td>NaN</td>\n      <td>0.0</td>\n      <td>Neutral</td>\n      <td>NaN</td>\n      <td>NaN</td>\n    </tr>\n  </tbody>\n</table>\n</div>"
     },
     "metadata": {},
     "execution_count": 82
    }
   ],
   "source": [
    "trading_signals_df=get_trading_signals(case_count_signals_df,sentiment_signal_df)\n",
    "trading_signals_df.tail()"
   ]
  },
  {
   "cell_type": "code",
   "execution_count": null,
   "metadata": {},
   "outputs": [],
   "source": [
    "# Initialize Streaming DataFrame for Market Price Data Showing Backtested Signals\n",
    "    data_stream = Stream()\n",
    "    data = all_returns_df['S&P 500 close']\n",
    "    data_stream_df = DataFrame(data_stream, example=data)\n",
    "# Initialize Streaming DataFrame for Signals\n",
    "    signals_stream = Stream()\n",
    "    signals_data=trading_signals_df\n",
    "    signals_stream_df = DataFrame(signals_stream, example=signals_data)"
   ]
  },
  {
   "cell_type": "code",
   "execution_count": null,
   "metadata": {},
   "outputs": [],
   "source": [
    "##Dashboard\n",
    "live_column = pn.Column()\n",
    "backtesting_column = pn.Column()"
   ]
  }
 ],
 "metadata": {
  "language_info": {
   "codemirror_mode": {
    "name": "ipython",
    "version": 3
   },
   "file_extension": ".py",
   "mimetype": "text/x-python",
   "name": "python",
   "nbconvert_exporter": "python",
   "pygments_lexer": "ipython3",
   "version": "3.7.7-final"
  },
  "orig_nbformat": 2,
  "kernelspec": {
   "name": "python_defaultSpec_1593272350994",
   "display_name": "Python 3.7.4 64-bit ('base': conda)"
  }
 },
 "nbformat": 4,
 "nbformat_minor": 2
}