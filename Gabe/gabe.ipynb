{
 "cells": [
  {
   "cell_type": "code",
   "execution_count": 1,
   "metadata": {},
   "outputs": [],
   "source": [
    "#import relevant libraries \n",
    "import numpy as np\n",
    "import pandas as pd\n",
    "from datetime import datetime, timedelta\n",
    "import matplotlib.pyplot as plt\n",
    "import json\n",
    "from pathlib import Path\n",
    "import alpaca_trade_api as tradeapi\n",
    "import os \n",
    "from dotenv import load_dotenv\n",
    "\n",
    "%matplotlib inline"
   ]
  },
  {
   "cell_type": "code",
   "execution_count": 2,
   "metadata": {},
   "outputs": [
    {
     "output_type": "execute_result",
     "data": {
      "text/plain": "str"
     },
     "metadata": {},
     "execution_count": 2
    }
   ],
   "source": [
    "#engage API keys by activating .emv file\n",
    "load_dotenv()\n",
    "\n",
    "alpaca_api_key = os.getenv(\"Api_key\")\n",
    "alpaca_secret_key = os.getenv(\"Secret_key\")\n",
    "\n",
    "api = tradeapi.REST(alpaca_api_key, alpaca_secret_key, api_version='v2')\n",
    "\n",
    "\n",
    "type(alpaca_api_key)"
   ]
  },
  {
   "cell_type": "code",
   "execution_count": 3,
   "metadata": {},
   "outputs": [],
   "source": [
    "#load in historical data for S&P 500\n",
    "sp500_df = api.alpha_vantage.historic_quotes('SPY', adjusted=True, output_format='pandas')"
   ]
  },
  {
   "cell_type": "code",
   "execution_count": 4,
   "metadata": {},
   "outputs": [
    {
     "output_type": "execute_result",
     "data": {
      "text/plain": "date\n2020-06-25    307.35\n2020-06-24    304.09\n2020-06-23    312.05\n2020-06-22    310.62\n2020-06-19    308.64\nName: 5. adjusted close, dtype: float64"
     },
     "metadata": {},
     "execution_count": 4
    }
   ],
   "source": [
    "#DATA CLEANUP\n",
    "\n",
    "#Select the column we need,  \"adjusted close\", and drop the others\n",
    "\n",
    "sp500_df = sp500_df['5. adjusted close']\n",
    "sp500_df.head()"
   ]
  },
  {
   "cell_type": "code",
   "execution_count": 5,
   "metadata": {},
   "outputs": [
    {
     "output_type": "execute_result",
     "data": {
      "text/plain": "date\n2000-06-26    99.9424\n2000-06-27    99.2056\n2000-06-28    99.4832\n2000-06-29    98.5435\n2000-06-30    99.2910\nName: 5. adjusted close, dtype: float64"
     },
     "metadata": {},
     "execution_count": 5
    }
   ],
   "source": [
    "#Sort earliest to latest so that .pct_change() function works right.\n",
    "\n",
    "sp500_df.sort_index(inplace=True, ascending=True)\n",
    "sp500_df.head()"
   ]
  },
  {
   "cell_type": "code",
   "execution_count": 6,
   "metadata": {},
   "outputs": [
    {
     "output_type": "execute_result",
     "data": {
      "text/plain": "            5. adjusted close  5. adjusted close\ndate                                            \n2000-06-26            99.9424                NaN\n2000-06-27            99.2056          -0.007372\n2000-06-28            99.4832           0.002798\n2000-06-29            98.5435          -0.009446\n2000-06-30            99.2910           0.007585",
      "text/html": "<div>\n<style scoped>\n    .dataframe tbody tr th:only-of-type {\n        vertical-align: middle;\n    }\n\n    .dataframe tbody tr th {\n        vertical-align: top;\n    }\n\n    .dataframe thead th {\n        text-align: right;\n    }\n</style>\n<table border=\"1\" class=\"dataframe\">\n  <thead>\n    <tr style=\"text-align: right;\">\n      <th></th>\n      <th>5. adjusted close</th>\n      <th>5. adjusted close</th>\n    </tr>\n    <tr>\n      <th>date</th>\n      <th></th>\n      <th></th>\n    </tr>\n  </thead>\n  <tbody>\n    <tr>\n      <td>2000-06-26</td>\n      <td>99.9424</td>\n      <td>NaN</td>\n    </tr>\n    <tr>\n      <td>2000-06-27</td>\n      <td>99.2056</td>\n      <td>-0.007372</td>\n    </tr>\n    <tr>\n      <td>2000-06-28</td>\n      <td>99.4832</td>\n      <td>0.002798</td>\n    </tr>\n    <tr>\n      <td>2000-06-29</td>\n      <td>98.5435</td>\n      <td>-0.009446</td>\n    </tr>\n    <tr>\n      <td>2000-06-30</td>\n      <td>99.2910</td>\n      <td>0.007585</td>\n    </tr>\n  </tbody>\n</table>\n</div>"
     },
     "metadata": {},
     "execution_count": 6
    }
   ],
   "source": [
    "#create a dataframe for the daily returns (pct_change) values and concat with SP500 close\n",
    "returns_df = sp500_df.pct_change()\n",
    "concat_returns = pd.concat([sp500_df, returns_df], axis=\"columns\", join=\"inner\")\n",
    "concat_returns.head()"
   ]
  },
  {
   "cell_type": "code",
   "execution_count": 7,
   "metadata": {},
   "outputs": [
    {
     "output_type": "execute_result",
     "data": {
      "text/plain": "            S&P 500 close  S&P 500 Daily Returns\ndate                                            \n2000-06-26        99.9424                    NaN\n2000-06-27        99.2056              -0.007372\n2000-06-28        99.4832               0.002798\n2000-06-29        98.5435              -0.009446\n2000-06-30        99.2910               0.007585",
      "text/html": "<div>\n<style scoped>\n    .dataframe tbody tr th:only-of-type {\n        vertical-align: middle;\n    }\n\n    .dataframe tbody tr th {\n        vertical-align: top;\n    }\n\n    .dataframe thead th {\n        text-align: right;\n    }\n</style>\n<table border=\"1\" class=\"dataframe\">\n  <thead>\n    <tr style=\"text-align: right;\">\n      <th></th>\n      <th>S&amp;P 500 close</th>\n      <th>S&amp;P 500 Daily Returns</th>\n    </tr>\n    <tr>\n      <th>date</th>\n      <th></th>\n      <th></th>\n    </tr>\n  </thead>\n  <tbody>\n    <tr>\n      <td>2000-06-26</td>\n      <td>99.9424</td>\n      <td>NaN</td>\n    </tr>\n    <tr>\n      <td>2000-06-27</td>\n      <td>99.2056</td>\n      <td>-0.007372</td>\n    </tr>\n    <tr>\n      <td>2000-06-28</td>\n      <td>99.4832</td>\n      <td>0.002798</td>\n    </tr>\n    <tr>\n      <td>2000-06-29</td>\n      <td>98.5435</td>\n      <td>-0.009446</td>\n    </tr>\n    <tr>\n      <td>2000-06-30</td>\n      <td>99.2910</td>\n      <td>0.007585</td>\n    </tr>\n  </tbody>\n</table>\n</div>"
     },
     "metadata": {},
     "execution_count": 7
    }
   ],
   "source": [
    "#Change column names to avoid confusion\n",
    "columns = ['S&P 500 close',\n",
    "          'S&P 500 Daily Returns']\n",
    "concat_returns.columns = columns\n",
    "concat_returns.head()"
   ]
  },
  {
   "cell_type": "code",
   "execution_count": 8,
   "metadata": {},
   "outputs": [
    {
     "output_type": "execute_result",
     "data": {
      "text/plain": "S&P 500 close            0\nS&P 500 Daily Returns    0\ndtype: int64"
     },
     "metadata": {},
     "execution_count": 8
    }
   ],
   "source": [
    "# Drop nulls\n",
    "concat_returns.dropna(inplace=True)\n",
    "\n",
    "#count nulls again\n",
    "concat_returns.isnull().sum()"
   ]
  },
  {
   "cell_type": "code",
   "execution_count": 9,
   "metadata": {},
   "outputs": [
    {
     "output_type": "execute_result",
     "data": {
      "text/plain": "date\n2000-06-26    False\n2000-06-27    False\n2000-06-28    False\n2000-06-29    False\n2000-06-30    False\n              ...  \n2020-06-19    False\n2020-06-22    False\n2020-06-23    False\n2020-06-24    False\n2020-06-25    False\nName: 5. adjusted close, Length: 5032, dtype: bool"
     },
     "metadata": {},
     "execution_count": 9
    }
   ],
   "source": [
    "# Check for duplicate rows\n",
    "returns_df.duplicated()\n"
   ]
  },
  {
   "cell_type": "code",
   "execution_count": 10,
   "metadata": {},
   "outputs": [
    {
     "output_type": "execute_result",
     "data": {
      "text/plain": "date\n2000-06-26         NaN\n2000-06-27   -0.007372\n2000-06-28    0.002798\n2000-06-29   -0.009446\n2000-06-30    0.007585\nName: 5. adjusted close, dtype: float64"
     },
     "metadata": {},
     "execution_count": 10
    }
   ],
   "source": [
    "# drop duplicates\n",
    "returns_df.drop_duplicates(inplace=True)\n",
    "returns_df.head()"
   ]
  },
  {
   "cell_type": "code",
   "execution_count": 1,
   "metadata": {},
   "outputs": [
    {
     "output_type": "error",
     "ename": "NameError",
     "evalue": "name 'sp500_df' is not defined",
     "traceback": [
      "\u001b[1;31m---------------------------------------------------------------------------\u001b[0m",
      "\u001b[1;31mNameError\u001b[0m                                 Traceback (most recent call last)",
      "\u001b[1;32m<ipython-input-1-7b96108718d5>\u001b[0m in \u001b[0;36m<module>\u001b[1;34m\u001b[0m\n\u001b[0;32m      1\u001b[0m \u001b[1;31m# Grab just the `date` and `close` from the dataset\u001b[0m\u001b[1;33m\u001b[0m\u001b[1;33m\u001b[0m\u001b[1;33m\u001b[0m\u001b[0m\n\u001b[1;32m----> 2\u001b[1;33m \u001b[0msp500_signals\u001b[0m \u001b[1;33m=\u001b[0m \u001b[0msp500_df\u001b[0m\u001b[1;33m.\u001b[0m\u001b[0mcopy\u001b[0m\u001b[1;33m(\u001b[0m\u001b[1;33m)\u001b[0m\u001b[1;33m\u001b[0m\u001b[1;33m\u001b[0m\u001b[0m\n\u001b[0m\u001b[0;32m      3\u001b[0m \u001b[1;33m\u001b[0m\u001b[0m\n\u001b[0;32m      4\u001b[0m \u001b[1;31m# Generate the short and long moving averages (50 and 100 days, respectively)\u001b[0m\u001b[1;33m\u001b[0m\u001b[1;33m\u001b[0m\u001b[1;33m\u001b[0m\u001b[0m\n\u001b[0;32m      5\u001b[0m \u001b[0msp500_signals\u001b[0m\u001b[1;33m[\u001b[0m\u001b[1;34m\"EWM20\"\u001b[0m\u001b[1;33m]\u001b[0m \u001b[1;33m=\u001b[0m \u001b[0mpd\u001b[0m\u001b[1;33m.\u001b[0m\u001b[0mDataFrame\u001b[0m\u001b[1;33m.\u001b[0m\u001b[0mewm\u001b[0m\u001b[1;33m(\u001b[0m\u001b[0msp500_signals\u001b[0m\u001b[1;33m,\u001b[0m \u001b[0mspan\u001b[0m\u001b[1;33m=\u001b[0m\u001b[1;36m20\u001b[0m\u001b[1;33m)\u001b[0m\u001b[1;33m.\u001b[0m\u001b[0mmean\u001b[0m\u001b[1;33m(\u001b[0m\u001b[1;33m)\u001b[0m\u001b[1;33m\u001b[0m\u001b[1;33m\u001b[0m\u001b[0m\n",
      "\u001b[1;31mNameError\u001b[0m: name 'sp500_df' is not defined"
     ]
    }
   ],
   "source": [
    "# Grab just the `date` and `close` from the dataset\n",
    "sp500_signals = sp500_df.copy()\n",
    "\n",
    "# Generate the short and long moving averages (50 and 100 days, respectively)\n",
    "sp500_signals[\"EWM20\"] = pd.DataFrame.ewm(sp500_signals, span=20).mean()\n",
    "sp500_signals[\"EWM50\"] = pd.DataFrame.ewm(sp500_signals, span=50).mean()\n",
    "signals_df[\"Signal\"] = 0.0\n",
    "\n",
    "# Generate the trading signal 0 or 1,\n",
    "# where 0 is when the SMA50 is under the SMA100, and\n",
    "# where 1 is when the SMA50 is higher (or crosses over) the SMA100\n",
    "signals_df[\"Signal\"][short_window:] = np.where(\n",
    "    signals_df[\"SMA50\"][short_window:] > signals_df[\"SMA100\"][short_window:], 1.0, 0.0\n",
    ")\n",
    "\n",
    "# Calculate the points in time at which a position should be taken, 1 or -1\n",
    "signals_df[\"Entry/Exit\"] = signals_df[\"Signal\"].diff()\n",
    "\n",
    "signals_df.head(10)"
   ]
  },
  {
   "cell_type": "code",
   "execution_count": null,
   "metadata": {},
   "outputs": [],
   "source": []
  }
 ],
 "metadata": {
  "language_info": {
   "codemirror_mode": {
    "name": "ipython",
    "version": 3
   },
   "file_extension": ".py",
   "mimetype": "text/x-python",
   "name": "python",
   "nbconvert_exporter": "python",
   "pygments_lexer": "ipython3",
   "version": "3.7.7-final"
  },
  "orig_nbformat": 2,
  "kernelspec": {
   "name": "python3",
   "display_name": "Python 3"
  }
 },
 "nbformat": 4,
 "nbformat_minor": 2
}