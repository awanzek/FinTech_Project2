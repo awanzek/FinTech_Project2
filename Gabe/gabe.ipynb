{
 "cells": [
  {
   "cell_type": "code",
   "execution_count": 2,
   "metadata": {},
   "outputs": [],
   "source": [
    "#import relevant libraries \n",
    "import numpy as np\n",
    "import pandas as pd\n",
    "from datetime import datetime, timedelta\n",
    "import matplotlib.pyplot as plt\n",
    "import json\n",
    "from pathlib import Path\n",
    "import alpaca_trade_api as tradeapi\n",
    "import os \n",
    "from dotenv import load_dotenv\n",
    "\n",
    "%matplotlib inline"
   ]
  },
  {
   "cell_type": "code",
   "execution_count": 3,
   "metadata": {},
   "outputs": [
    {
     "output_type": "execute_result",
     "data": {
      "text/plain": "str"
     },
     "metadata": {},
     "execution_count": 3
    }
   ],
   "source": [
    "#engage API keys by activating .emv file\n",
    "load_dotenv()\n",
    "\n",
    "alpaca_api_key = os.getenv(\"Api_key\")\n",
    "alpaca_secret_key = os.getenv(\"Secret_key\")\n",
    "\n",
    "api = tradeapi.REST(alpaca_api_key, alpaca_secret_key, api_version='v2')\n",
    "\n",
    "\n",
    "type(alpaca_api_key)"
   ]
  },
  {
   "cell_type": "code",
   "execution_count": 4,
   "metadata": {},
   "outputs": [],
   "source": [
    "#load in historical data for S&P 500\n",
    "sp500_df = api.alpha_vantage.historic_quotes('SPY', adjusted=True, output_format='pandas')"
   ]
  },
  {
   "cell_type": "code",
   "execution_count": 5,
   "metadata": {},
   "outputs": [
    {
     "output_type": "execute_result",
     "data": {
      "text/plain": "date\n2020-06-23    312.0500\n2020-06-22    310.6200\n2020-06-19    308.6400\n2020-06-18    310.4060\n2020-06-17    310.2865\nName: 5. adjusted close, dtype: float64"
     },
     "metadata": {},
     "execution_count": 5
    }
   ],
   "source": [
    "#DATA CLEANUP\n",
    "\n",
    "#Select the column we need,  \"adjusted close\", and drop the others\n",
    "\n",
    "sp500_df = sp500_df['5. adjusted close']\n",
    "sp500_df.head()"
   ]
  },
  {
   "cell_type": "code",
   "execution_count": 6,
   "metadata": {},
   "outputs": [
    {
     "output_type": "execute_result",
     "data": {
      "text/plain": "date\n2000-06-22    99.5260\n2000-06-23    98.6717\n2000-06-26    99.9424\n2000-06-27    99.2056\n2000-06-28    99.4832\nName: 5. adjusted close, dtype: float64"
     },
     "metadata": {},
     "execution_count": 6
    }
   ],
   "source": [
    "#Sort earliest to latest so that .pct_change() function works right.\n",
    "\n",
    "sp500_df.sort_index(inplace=True, ascending=True)\n",
    "sp500_df.head()"
   ]
  },
  {
   "cell_type": "code",
   "execution_count": 15,
   "metadata": {},
   "outputs": [
    {
     "output_type": "execute_result",
     "data": {
      "text/plain": "            5. adjusted close  5. adjusted close\ndate                                            \n2000-06-22            99.5260                NaN\n2000-06-23            98.6717          -0.008584\n2000-06-26            99.9424           0.012878\n2000-06-27            99.2056          -0.007372\n2000-06-28            99.4832           0.002798",
      "text/html": "<div>\n<style scoped>\n    .dataframe tbody tr th:only-of-type {\n        vertical-align: middle;\n    }\n\n    .dataframe tbody tr th {\n        vertical-align: top;\n    }\n\n    .dataframe thead th {\n        text-align: right;\n    }\n</style>\n<table border=\"1\" class=\"dataframe\">\n  <thead>\n    <tr style=\"text-align: right;\">\n      <th></th>\n      <th>5. adjusted close</th>\n      <th>5. adjusted close</th>\n    </tr>\n    <tr>\n      <th>date</th>\n      <th></th>\n      <th></th>\n    </tr>\n  </thead>\n  <tbody>\n    <tr>\n      <td>2000-06-22</td>\n      <td>99.5260</td>\n      <td>NaN</td>\n    </tr>\n    <tr>\n      <td>2000-06-23</td>\n      <td>98.6717</td>\n      <td>-0.008584</td>\n    </tr>\n    <tr>\n      <td>2000-06-26</td>\n      <td>99.9424</td>\n      <td>0.012878</td>\n    </tr>\n    <tr>\n      <td>2000-06-27</td>\n      <td>99.2056</td>\n      <td>-0.007372</td>\n    </tr>\n    <tr>\n      <td>2000-06-28</td>\n      <td>99.4832</td>\n      <td>0.002798</td>\n    </tr>\n  </tbody>\n</table>\n</div>"
     },
     "metadata": {},
     "execution_count": 15
    }
   ],
   "source": [
    "#create a dataframe for the daily returns (pct_change) values and concat with SP500 close\n",
    "returns_df = sp500_df.pct_change()\n",
    "concat_returns = pd.concat([sp500_df, returns_df], axis=\"columns\", join=\"inner\")\n",
    "concat_returns.head()"
   ]
  },
  {
   "cell_type": "code",
   "execution_count": 16,
   "metadata": {},
   "outputs": [
    {
     "output_type": "execute_result",
     "data": {
      "text/plain": "            S&P 500 close  S&P 500 Daily Returns\ndate                                            \n2000-06-22        99.5260                    NaN\n2000-06-23        98.6717              -0.008584\n2000-06-26        99.9424               0.012878\n2000-06-27        99.2056              -0.007372\n2000-06-28        99.4832               0.002798",
      "text/html": "<div>\n<style scoped>\n    .dataframe tbody tr th:only-of-type {\n        vertical-align: middle;\n    }\n\n    .dataframe tbody tr th {\n        vertical-align: top;\n    }\n\n    .dataframe thead th {\n        text-align: right;\n    }\n</style>\n<table border=\"1\" class=\"dataframe\">\n  <thead>\n    <tr style=\"text-align: right;\">\n      <th></th>\n      <th>S&amp;P 500 close</th>\n      <th>S&amp;P 500 Daily Returns</th>\n    </tr>\n    <tr>\n      <th>date</th>\n      <th></th>\n      <th></th>\n    </tr>\n  </thead>\n  <tbody>\n    <tr>\n      <td>2000-06-22</td>\n      <td>99.5260</td>\n      <td>NaN</td>\n    </tr>\n    <tr>\n      <td>2000-06-23</td>\n      <td>98.6717</td>\n      <td>-0.008584</td>\n    </tr>\n    <tr>\n      <td>2000-06-26</td>\n      <td>99.9424</td>\n      <td>0.012878</td>\n    </tr>\n    <tr>\n      <td>2000-06-27</td>\n      <td>99.2056</td>\n      <td>-0.007372</td>\n    </tr>\n    <tr>\n      <td>2000-06-28</td>\n      <td>99.4832</td>\n      <td>0.002798</td>\n    </tr>\n  </tbody>\n</table>\n</div>"
     },
     "metadata": {},
     "execution_count": 16
    }
   ],
   "source": [
    "#Change column names to avoid confusion\n",
    "columns = ['S&P 500 close',\n",
    "          'S&P 500 Daily Returns']\n",
    "concat_returns.columns = columns\n",
    "concat_returns.head()"
   ]
  },
  {
   "cell_type": "code",
   "execution_count": 17,
   "metadata": {},
   "outputs": [
    {
     "output_type": "execute_result",
     "data": {
      "text/plain": "S&P 500 close            0\nS&P 500 Daily Returns    0\ndtype: int64"
     },
     "metadata": {},
     "execution_count": 17
    }
   ],
   "source": [
    "# Drop nulls\n",
    "concat_returns.dropna(inplace=True)\n",
    "\n",
    "#count nulls again\n",
    "concat_returns.isnull().sum()"
   ]
  },
  {
   "cell_type": "code",
   "execution_count": 18,
   "metadata": {},
   "outputs": [
    {
     "output_type": "execute_result",
     "data": {
      "text/plain": "date\n2000-06-22    False\n2000-06-23    False\n2000-06-26    False\n2000-06-27    False\n2000-06-28    False\n              ...  \n2020-06-17    False\n2020-06-18    False\n2020-06-19    False\n2020-06-22    False\n2020-06-23    False\nName: 5. adjusted close, Length: 5032, dtype: bool"
     },
     "metadata": {},
     "execution_count": 18
    }
   ],
   "source": [
    "# Check for duplicate rows\n",
    "returns_df.duplicated()\n"
   ]
  },
  {
   "cell_type": "code",
   "execution_count": 19,
   "metadata": {},
   "outputs": [
    {
     "output_type": "execute_result",
     "data": {
      "text/plain": "date\n2000-06-22         NaN\n2000-06-23   -0.008584\n2000-06-26    0.012878\n2000-06-27   -0.007372\n2000-06-28    0.002798\nName: 5. adjusted close, dtype: float64"
     },
     "metadata": {},
     "execution_count": 19
    }
   ],
   "source": [
    "# drop duplicates\n",
    "returns_df.drop_duplicates(inplace=True)\n",
    "returns_df.head()"
   ]
  },
  {
   "cell_type": "code",
   "execution_count": null,
   "metadata": {},
   "outputs": [],
   "source": []
  }
 ],
 "metadata": {
  "language_info": {
   "codemirror_mode": {
    "name": "ipython",
    "version": 3
   },
   "file_extension": ".py",
   "mimetype": "text/x-python",
   "name": "python",
   "nbconvert_exporter": "python",
   "pygments_lexer": "ipython3",
   "version": "3.7.4-final"
  },
  "orig_nbformat": 2,
  "kernelspec": {
   "name": "python3",
   "display_name": "Python 3"
  }
 },
 "nbformat": 4,
 "nbformat_minor": 2
}